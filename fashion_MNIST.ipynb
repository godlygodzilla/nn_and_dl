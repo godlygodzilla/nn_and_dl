{
  "nbformat": 4,
  "nbformat_minor": 0,
  "metadata": {
    "colab": {
      "provenance": [],
      "gpuType": "T4",
      "authorship_tag": "ABX9TyP4DWy0Hi2zWW1hkdrZRkQk",
      "include_colab_link": true
    },
    "kernelspec": {
      "name": "python3",
      "display_name": "Python 3"
    },
    "language_info": {
      "name": "python"
    },
    "accelerator": "GPU"
  },
  "cells": [
    {
      "cell_type": "markdown",
      "metadata": {
        "id": "view-in-github",
        "colab_type": "text"
      },
      "source": [
        "<a href=\"https://colab.research.google.com/github/godlygodzilla/nn_and_dl/blob/main/fashion_MNIST.ipynb\" target=\"_parent\"><img src=\"https://colab.research.google.com/assets/colab-badge.svg\" alt=\"Open In Colab\"/></a>"
      ]
    },
    {
      "cell_type": "code",
      "execution_count": null,
      "metadata": {
        "id": "lFX5vONdtKtC"
      },
      "outputs": [],
      "source": [
        "import tensorflow as tf\n",
        "from tensorflow import keras\n",
        "from matplotlib import pyplot as plt\n",
        "import numpy as np"
      ]
    },
    {
      "cell_type": "code",
      "source": [
        "fashion_mnist=tf.keras.datasets.fashion_mnist\n",
        "(train_images,train_labels),(test_images,test_labels)= fashion_mnist.load_data()"
      ],
      "metadata": {
        "id": "ci53rnsmtSo4",
        "colab": {
          "base_uri": "https://localhost:8080/"
        },
        "outputId": "57e76861-30a5-45c7-bb37-edddd7b842f3"
      },
      "execution_count": null,
      "outputs": [
        {
          "output_type": "stream",
          "name": "stdout",
          "text": [
            "Downloading data from https://storage.googleapis.com/tensorflow/tf-keras-datasets/train-labels-idx1-ubyte.gz\n",
            "29515/29515 [==============================] - 0s 0us/step\n",
            "Downloading data from https://storage.googleapis.com/tensorflow/tf-keras-datasets/train-images-idx3-ubyte.gz\n",
            "26421880/26421880 [==============================] - 1s 0us/step\n",
            "Downloading data from https://storage.googleapis.com/tensorflow/tf-keras-datasets/t10k-labels-idx1-ubyte.gz\n",
            "5148/5148 [==============================] - 0s 0us/step\n",
            "Downloading data from https://storage.googleapis.com/tensorflow/tf-keras-datasets/t10k-images-idx3-ubyte.gz\n",
            "4422102/4422102 [==============================] - 1s 0us/step\n"
          ]
        }
      ]
    },
    {
      "cell_type": "code",
      "source": [
        "np.set_printoptions(linewidth=150)\n",
        "\n",
        "print(f'label: {train_labels[15]}')\n",
        "print(f'image: {train_images[15]}')\n",
        "plt.imshow(train_images[15])"
      ],
      "metadata": {
        "colab": {
          "base_uri": "https://localhost:8080/",
          "height": 951
        },
        "id": "kUhjmMcIwS57",
        "outputId": "cfea08bd-b002-4137-ef29-943caf80446a"
      },
      "execution_count": null,
      "outputs": [
        {
          "output_type": "stream",
          "name": "stdout",
          "text": [
            "label: 9\n",
            "image: [[  0   0   0   0   0   0   0   0   0   0   0   0   0   0   0   0   0   0   0   0   0   0   0   0   0   0   0   0]\n",
            " [  0   0   0   0   0   0   0   0   0   0   0   0   0   0   0   0   0   0   0   0   0   0   0   0   0   0   0   0]\n",
            " [  0   0   0   0   0   0   0   0   0   0   0   0   0   0   0   0   0   0   0   0   0   0   0   0   0   0   0   0]\n",
            " [  0   0   0   0   0   0   0   0   0   0   0   0   0   0   0   0   0   0   0   0   0   0   0   0   0   0   0   0]\n",
            " [  0   0   0   0   0   0   0   0   0   0   0   0   0   0   0   0   0   0   0   0   0   0   0   0   0   0   0   0]\n",
            " [  0   0   0   0   0   0   0   0   0   0   0   0   0   0  85 188 146  79   0   0   0   0   0   0   0   0   0   0]\n",
            " [  0   0   0   0   0   0   0   0   0   0   0   0   0   0 140 202 199 255 144   0   0   0   0  11 135 157   5   0]\n",
            " [  0   0   0   0   0   0   0   0   0   0   0   3   0   0 200 187 200 191 255  51   0   0  16 208 227 236  63   0]\n",
            " [  0   0   0   0   0   0   0   0   0   0   0   2   0  18 233 193 206 186 219 255 171 140 255 221 203 217  43   0]\n",
            " [  0   0   0   0   0   0   0   0   0   0   0   0   0 107 217 195 203 204 209 216 244 255 213 207 218 228  72   0]\n",
            " [  0   0   0   0   0   0   0   0   0   0   0   0   0 231 216 209 204 205 217 218 214 213 201 210 215 233 128   0]\n",
            " [  0   0   0   0   0   0   0   0   0   0   1   0  33 255 206 214 204 213 218 213 217 222 196 201 205 231 185   0]\n",
            " [  0   0   0   0   0   0   0   0   0   9   2   0 159 234 193 209 206 215 218 217 221 210 201 205 214 219 249   0]\n",
            " [  0   0   0   0   0   0   0   0   1   0   0  77 255 219 207 204 205 213 213 215 213 203 211 217 217 202 255  71]\n",
            " [  0   0   1   2   3   3   1   0   0   0 121 245 214 219 210 200 205 215 215 219 214 204 208 213 214 201 246 118]\n",
            " [  0   0   0   0   0   0   0   0  78 216 255 208 205 214 197 202 214 211 210 213 211 208 214 204 208 207 237 136]\n",
            " [  0   0   0   0  19  87 135 211 255 217 202 206 214 209 198 202 214 214 211 213 200 207 212 201 198 203 243 130]\n",
            " [  0  64 190 219 241 214 227 216 194 193 199 201 201 213 204 198 201 205 208 202 202 205 196 198 202 201 255  73]\n",
            " [ 23 214 209 198 198 195 200 194 212 201 201 203 204 211 204 199 199 195 194 181 187 212 208 201 212 219 245  11]\n",
            " [129 220 200 207 206 204 191 202 209 212 211 207 204 202 198 206 209 198 204 222 246 223 197 179 165 163 179   0]\n",
            " [125 232 211 205 213 212 215 216 214 207 200 197 200 197 205 204 213 226 240 176  91 163 164 159 162 173 198   0]\n",
            " [  0 146 212 229 215 213 203 198 206 203 202 202 197 196 208 227 225 112   0   0   0 185 160 161 155 167 204   0]\n",
            " [  0   0   5 117 211 237 255 244 231 225 216 220 228 255 245 122   0   0   0   0   0 231 214 212 221 201 228   6]\n",
            " [  0   2   0   0   0   0  66 116 160 191 207 207 200 120   0   0   0   0   2   0   0  95  85  79  67  51   0   0]\n",
            " [  0   0   0   0   0   0   0   0   0   0   0   0   0   0   0   0   0   0   0   0   0   0   0   0   0   0   0   0]\n",
            " [  0   0   0   0   0   0   0   0   0   0   0   0   0   0   0   0   0   0   0   0   0   0   0   0   0   0   0   0]\n",
            " [  0   0   0   0   0   0   0   0   0   0   0   0   0   0   0   0   0   0   0   0   0   0   0   0   0   0   0   0]\n",
            " [  0   0   0   0   0   0   0   0   0   0   0   0   0   0   0   0   0   0   0   0   0   0   0   0   0   0   0   0]]\n"
          ]
        },
        {
          "output_type": "execute_result",
          "data": {
            "text/plain": [
              "<matplotlib.image.AxesImage at 0x7f3ba5704fd0>"
            ]
          },
          "metadata": {},
          "execution_count": 3
        },
        {
          "output_type": "display_data",
          "data": {
            "text/plain": [
              "<Figure size 640x480 with 1 Axes>"
            ],
            "image/png": "[encoded data removed]"
          },
          "metadata": {}
        }
      ]
    },
    {
      "cell_type": "code",
      "source": [
        "train_images= train_images/255.0\n",
        "test_images= test_images/255.0"
      ],
      "metadata": {
        "id": "T0GZ9KsVx_f1"
      },
      "execution_count": null,
      "outputs": []
    },
    {
      "cell_type": "code",
      "source": [
        "model_= keras.Sequential([keras.layers.Flatten(),\n",
        "                         keras.layers.Dense(128,activation=tf.nn.relu),\n",
        "                         keras.layers.Dense(10,activation=tf.nn.softmax)])"
      ],
      "metadata": {
        "id": "qAFYU_AhzKzw"
      },
      "execution_count": null,
      "outputs": []
    },
    {
      "cell_type": "code",
      "source": [
        "class my_callbacks(tf.keras.callbacks.Callback):\n",
        "  def on_epoch_end(self,epoch,logs={}):\n",
        "\n",
        "    if (logs.get('loss')<0.4):\n",
        "      print(\"\\nstopping training\")\n",
        "      self.model.stop_training= True"
      ],
      "metadata": {
        "id": "nkeA4Bl7eTns"
      },
      "execution_count": null,
      "outputs": []
    },
    {
      "cell_type": "code",
      "source": [
        "callbacks=my_callbacks()"
      ],
      "metadata": {
        "id": "T6ttr00ufB5Y"
      },
      "execution_count": null,
      "outputs": []
    },
    {
      "cell_type": "code",
      "source": [
        "model_.compile(optimizer = tf.optimizers.Adam(),\n",
        "              loss = 'sparse_categorical_crossentropy',\n",
        "              metrics=['accuracy'])"
      ],
      "metadata": {
        "id": "kihbc2OB0Zqw"
      },
      "execution_count": null,
      "outputs": []
    },
    {
      "cell_type": "code",
      "source": [
        "model_.fit( train_images, train_labels, epochs=10000,callbacks=[callbacks])"
      ],
      "metadata": {
        "colab": {
          "base_uri": "https://localhost:8080/"
        },
        "id": "9DPWManr0_k7",
        "outputId": "f32b66c0-aba0-4a45-b17e-905b9680ea26"
      },
      "execution_count": null,
      "outputs": [
        {
          "output_type": "stream",
          "name": "stdout",
          "text": [
            "Epoch 1/10000\n",
            "1875/1875 [==============================] - 13s 3ms/step - loss: 0.5000 - accuracy: 0.8242\n",
            "Epoch 2/10000\n",
            "1869/1875 [============================>.] - ETA: 0s - loss: 0.3734 - accuracy: 0.8666\n",
            "stopping training\n",
            "1875/1875 [==============================] - 5s 3ms/step - loss: 0.3733 - accuracy: 0.8666\n"
          ]
        },
        {
          "output_type": "execute_result",
          "data": {
            "text/plain": [
              "<keras.callbacks.History at 0x7f3b291ffd30>"
            ]
          },
          "metadata": {},
          "execution_count": 9
        }
      ]
    },
    {
      "cell_type": "code",
      "source": [
        "model_.evaluate(test_images,test_labels)"
      ],
      "metadata": {
        "colab": {
          "base_uri": "https://localhost:8080/"
        },
        "id": "ylP0UBE64Hol",
        "outputId": "d8a98a07-39fe-4e02-f9ba-2c9a122a369d"
      },
      "execution_count": null,
      "outputs": [
        {
          "output_type": "stream",
          "name": "stdout",
          "text": [
            "313/313 [==============================] - 1s 4ms/step - loss: 0.3761 - accuracy: 0.8642\n"
          ]
        },
        {
          "output_type": "execute_result",
          "data": {
            "text/plain": [
              "[0.3760877251625061, 0.8641999959945679]"
            ]
          },
          "metadata": {},
          "execution_count": 10
        }
      ]
    },
    {
      "cell_type": "code",
      "source": [
        "classifications=model_.predict(test_images)\n",
        "print(classifications[0])"
      ],
      "metadata": {
        "colab": {
          "base_uri": "https://localhost:8080/"
        },
        "id": "sD3FRO3F4yQH",
        "outputId": "8915c534-8f9a-43d4-b17c-cb85c5b854ed"
      },
      "execution_count": null,
      "outputs": [
        {
          "output_type": "stream",
          "name": "stdout",
          "text": [
            "313/313 [==============================] - 1s 2ms/step\n",
            "[1.9019943e-05 1.3387663e-07 2.7687845e-05 1.4929358e-06 6.3695825e-06 3.0567570e-02 2.8516122e-05 7.8525051e-02 5.5776857e-04 8.9026636e-01]\n"
          ]
        }
      ]
    }
  ]
}