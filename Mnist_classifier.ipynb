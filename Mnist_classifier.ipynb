{
  "nbformat": 4,
  "nbformat_minor": 0,
  "metadata": {
    "colab": {
      "provenance": [],
      "authorship_tag": "ABX9TyNZUrDTnv1gEFBrYuM0sNQj",
      "include_colab_link": true
    },
    "kernelspec": {
      "name": "python3",
      "display_name": "Python 3"
    },
    "language_info": {
      "name": "python"
    }
  },
  "cells": [
    {
      "cell_type": "markdown",
      "metadata": {
        "id": "view-in-github",
        "colab_type": "text"
      },
      "source": [
        "<a href=\"https://colab.research.google.com/github/godlygodzilla/nn_and_dl/blob/main/Mnist_classifier.ipynb\" target=\"_parent\"><img src=\"https://colab.research.google.com/assets/colab-badge.svg\" alt=\"Open In Colab\"/></a>"
      ]
    },
    {
      "cell_type": "code",
      "execution_count": null,
      "metadata": {
        "id": "UGxL8eix4Uvv"
      },
      "outputs": [],
      "source": [
        "import tensorflow as tf\n",
        "from tensorflow import keras"
      ]
    },
    {
      "cell_type": "code",
      "source": [
        "fashion_mnist= keras.datasets.fashion_mnist\n",
        "(train_images,train_labels),(test_images,test_labels)=fashion_mnist.load_data()"
      ],
      "metadata": {
        "id": "9-PoBkTf4bmc"
      },
      "execution_count": null,
      "outputs": []
    },
    {
      "cell_type": "code",
      "source": [
        "train_images=train_images/255.0\n",
        "test_images=test_images/255.0"
      ],
      "metadata": {
        "id": "nYI2J_hR7vKp"
      },
      "execution_count": null,
      "outputs": []
    },
    {
      "cell_type": "code",
      "source": [
        "model= keras.Sequential([keras.layers.Conv2D(32,(3,3),activation=\"relu\",input_shape=(28,28,1)),\n",
        "                        keras.layers.MaxPooling2D(2,2),\n",
        "                        keras.layers.Conv2D(32,(3,3),activation=\"relu\"),\n",
        "                        keras.layers.MaxPooling2D(2,2),\n",
        "                        keras.layers.Flatten(),\n",
        "                        keras.layers.Dense(128,activation=\"relu\"),\n",
        "                        keras.layers.Dense(10,activation=\"softmax\")])"
      ],
      "metadata": {
        "id": "bEbll6Ge4m68"
      },
      "execution_count": null,
      "outputs": []
    },
    {
      "cell_type": "code",
      "source": [
        "model.compile(optimizer='adam', loss='sparse_categorical_crossentropy', metrics=['accuracy'])"
      ],
      "metadata": {
        "id": "MtndigIK6ZzR"
      },
      "execution_count": null,
      "outputs": []
    },
    {
      "cell_type": "code",
      "source": [
        "model.summary()"
      ],
      "metadata": {
        "colab": {
          "base_uri": "https://localhost:8080/"
        },
        "id": "-FS3spc09FE8",
        "outputId": "85d9c5f6-73a5-41b9-c5ed-cbecb0bd822e"
      },
      "execution_count": null,
      "outputs": [
        {
          "output_type": "stream",
          "name": "stdout",
          "text": [
            "Model: \"sequential_10\"\n",
            "_________________________________________________________________\n",
            " Layer (type)                Output Shape              Param #   \n",
            "=================================================================\n",
            " conv2d_18 (Conv2D)          (None, 26, 26, 32)        320       \n",
            "                                                                 \n",
            " max_pooling2d_18 (MaxPoolin  (None, 13, 13, 32)       0         \n",
            " g2D)                                                            \n",
            "                                                                 \n",
            " conv2d_19 (Conv2D)          (None, 11, 11, 32)        9248      \n",
            "                                                                 \n",
            " max_pooling2d_19 (MaxPoolin  (None, 5, 5, 32)         0         \n",
            " g2D)                                                            \n",
            "                                                                 \n",
            " flatten_13 (Flatten)        (None, 800)               0         \n",
            "                                                                 \n",
            " dense_21 (Dense)            (None, 128)               102528    \n",
            "                                                                 \n",
            " dense_22 (Dense)            (None, 10)                1290      \n",
            "                                                                 \n",
            "=================================================================\n",
            "Total params: 113,386\n",
            "Trainable params: 113,386\n",
            "Non-trainable params: 0\n",
            "_________________________________________________________________\n"
          ]
        }
      ]
    },
    {
      "cell_type": "code",
      "source": [
        "model.fit(train_images,train_labels,epochs=5)"
      ],
      "metadata": {
        "colab": {
          "base_uri": "https://localhost:8080/"
        },
        "id": "igvXevoC_fAT",
        "outputId": "c9271cb0-d016-46b6-8fdd-0cff62795bcd"
      },
      "execution_count": null,
      "outputs": [
        {
          "output_type": "stream",
          "name": "stdout",
          "text": [
            "Epoch 1/5\n",
            "1875/1875 [==============================] - 57s 31ms/step - loss: 0.3755 - accuracy: 0.8629\n",
            "Epoch 2/5\n",
            "1875/1875 [==============================] - 55s 30ms/step - loss: 0.3043 - accuracy: 0.8893\n",
            "Epoch 3/5\n",
            "1875/1875 [==============================] - 55s 30ms/step - loss: 0.2653 - accuracy: 0.9024\n",
            "Epoch 4/5\n",
            "1875/1875 [==============================] - 55s 29ms/step - loss: 0.2383 - accuracy: 0.9112\n",
            "Epoch 5/5\n",
            "1875/1875 [==============================] - 55s 29ms/step - loss: 0.2157 - accuracy: 0.9194\n"
          ]
        },
        {
          "output_type": "execute_result",
          "data": {
            "text/plain": [
              "<keras.callbacks.History at 0x7fc65a98b1c0>"
            ]
          },
          "metadata": {},
          "execution_count": 60
        }
      ]
    },
    {
      "cell_type": "code",
      "source": [
        "model.evaluate(test_images,test_labels)"
      ],
      "metadata": {
        "colab": {
          "base_uri": "https://localhost:8080/"
        },
        "id": "bNLIQoUrAs5L",
        "outputId": "73a4c285-3cac-427e-c00e-2178f1d285eb"
      },
      "execution_count": null,
      "outputs": [
        {
          "output_type": "stream",
          "name": "stdout",
          "text": [
            "313/313 [==============================] - 3s 9ms/step - loss: 0.2741 - accuracy: 0.8973\n"
          ]
        },
        {
          "output_type": "execute_result",
          "data": {
            "text/plain": [
              "[0.2740815579891205, 0.8973000049591064]"
            ]
          },
          "metadata": {},
          "execution_count": 61
        }
      ]
    },
    {
      "cell_type": "code",
      "source": [
        "x = model.predict(test_images)\n",
        "y = x[0]\n",
        "\n",
        "max_value = float('-inf')\n",
        "max_index = None\n",
        "\n",
        "for i in range(len(y)):\n",
        "  if y[i] > max_value:\n",
        "    max_value = y[i]\n",
        "    max_index = i\n",
        "\n",
        "print(max_value)\n",
        "print(max_index)"
      ],
      "metadata": {
        "colab": {
          "base_uri": "https://localhost:8080/"
        },
        "id": "OqBFIXZ5AzC0",
        "outputId": "2af7ae5a-0c4c-4d1b-cf68-7dbbd7d160bb"
      },
      "execution_count": null,
      "outputs": [
        {
          "output_type": "stream",
          "name": "stdout",
          "text": [
            "313/313 [==============================] - 3s 9ms/step\n",
            "0.9992275\n",
            "9\n"
          ]
        }
      ]
    }
  ]
}